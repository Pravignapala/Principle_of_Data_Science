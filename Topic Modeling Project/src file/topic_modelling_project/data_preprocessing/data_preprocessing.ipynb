{
 "cells": [
  {
   "cell_type": "code",
   "execution_count": 1,
   "id": "6d318f50-f5b6-492c-a0eb-38c29fd9aa43",
   "metadata": {},
   "outputs": [
    {
     "name": "stdout",
     "output_type": "stream",
     "text": [
      "   year                                              title  \\\n",
      "0  1920  At last the Federal Reserve Board has issued r...   \n",
      "1  1920                            WILL TEST DOOR SERVICE.   \n",
      "2  1920                    Sanction for Chinese Contracts.   \n",
      "3  1920                            LEADS FRAZIER BY 4,496.   \n",
      "4  1920  CHICAGO, April 30.--With 300 suspicious charac...   \n",
      "\n",
      "                                             excerpt  \n",
      "0                                                     \n",
      "1  Service Board to Further Examine I.R.T. Safety...  \n",
      "2                                                     \n",
      "3  Langer's Margin Falls in North Dakota--Gronna ...  \n",
      "4  Federal Agents and Police Round-- up Suspiciou...  \n"
     ]
    }
   ],
   "source": [
    "import pandas as pd\n",
    "\n",
    "# Load parquet file\n",
    "file_path = 'nyt_data.parquet'\n",
    "df = pd.read_parquet(file_path, engine='pyarrow')  # or engine='fastparquet'\n",
    "\n",
    "# View the first few rows\n",
    "print(df.head())\n"
   ]
  },
  {
   "cell_type": "code",
   "execution_count": 2,
   "id": "528dee48-a6b2-42f7-ae4d-9ccc5ec004a7",
   "metadata": {},
   "outputs": [
    {
     "name": "stdout",
     "output_type": "stream",
     "text": [
      "(17370913, 3)\n"
     ]
    }
   ],
   "source": [
    "print(df.shape)\n"
   ]
  },
  {
   "cell_type": "code",
   "execution_count": 3,
   "id": "59b6b604-bfcf-4ac9-9e23-e94277b01667",
   "metadata": {},
   "outputs": [
    {
     "name": "stdout",
     "output_type": "stream",
     "text": [
      "Number of rows: 17370913\n",
      "Number of columns: 3\n",
      "year        int64\n",
      "title      object\n",
      "excerpt    object\n",
      "dtype: object\n",
      "year            101\n",
      "title      10718164\n",
      "excerpt     5212707\n",
      "dtype: int64\n"
     ]
    }
   ],
   "source": [
    "print(f\"Number of rows: {df.shape[0]}\")\n",
    "print(f\"Number of columns: {df.shape[1]}\")\n",
    "\n",
    "# Display the data types of each column\n",
    "print(df.dtypes)\n",
    "\n",
    "# Display the number of unique values in each column\n",
    "print(df.nunique())"
   ]
  },
  {
   "cell_type": "code",
   "execution_count": 4,
   "id": "d5985309-04c8-4d6a-99e2-73d97a4aca38",
   "metadata": {},
   "outputs": [
    {
     "name": "stdout",
     "output_type": "stream",
     "text": [
      "Earliest Year: 1920\n",
      "Latest Year: 2020\n",
      "Number of Years: 101\n"
     ]
    }
   ],
   "source": [
    "\n",
    "earliest_year = df['year'].min()\n",
    "latest_year = df['year'].max()\n",
    "num_years = latest_year - earliest_year + 1\n",
    "\n",
    "print(f\"Earliest Year: {earliest_year}\")\n",
    "print(f\"Latest Year: {latest_year}\")\n",
    "print(f\"Number of Years: {num_years}\")"
   ]
  },
  {
   "cell_type": "code",
   "execution_count": 5,
   "id": "4f101e92-5dfe-45d2-9397-f6e6c0804d87",
   "metadata": {},
   "outputs": [
    {
     "name": "stdout",
     "output_type": "stream",
     "text": [
      "Requirement already satisfied: nltk in c:\\users\\palap\\anaconda3\\lib\\site-packages (3.9.1)\n",
      "Requirement already satisfied: click in c:\\users\\palap\\anaconda3\\lib\\site-packages (from nltk) (8.1.7)\n",
      "Requirement already satisfied: joblib in c:\\users\\palap\\anaconda3\\lib\\site-packages (from nltk) (1.4.2)\n",
      "Requirement already satisfied: regex>=2021.8.3 in c:\\users\\palap\\anaconda3\\lib\\site-packages (from nltk) (2024.9.11)\n",
      "Requirement already satisfied: tqdm in c:\\users\\palap\\anaconda3\\lib\\site-packages (from nltk) (4.66.5)\n",
      "Requirement already satisfied: colorama in c:\\users\\palap\\anaconda3\\lib\\site-packages (from click->nltk) (0.4.6)\n"
     ]
    },
    {
     "name": "stderr",
     "output_type": "stream",
     "text": [
      "[nltk_data] Downloading package stopwords to\n",
      "[nltk_data]     C:\\Users\\palap\\AppData\\Roaming\\nltk_data...\n",
      "[nltk_data]   Package stopwords is already up-to-date!\n"
     ]
    }
   ],
   "source": [
    "import pandas as pd\n",
    "import re\n",
    "!pip install nltk\n",
    "\n",
    "\n",
    "\n",
    "from nltk.corpus import stopwords\n",
    "import nltk\n",
    "\n",
    "# Download stopwords if not already downloaded\n",
    "nltk.download('stopwords')\n",
    "\n",
    "# Load English stop words as a set\n",
    "stop_words = set(stopwords.words('english'))\n",
    "\n",
    "# Now `stop_words` is a set, and you can use it for text preprocessing\n"
   ]
  },
  {
   "cell_type": "code",
   "execution_count": 6,
   "id": "c4c05519-73ea-4290-8718-5d444da506d0",
   "metadata": {},
   "outputs": [],
   "source": [
    "# Function to standardize text\n",
    "def standardize_text(text):\n",
    "    if isinstance(text, str):\n",
    "        # Convert to lowercase\n",
    "        text = text.lower()\n",
    "\n",
    "        # Remove punctuation, numbers, and unwanted characters\n",
    "        # Keep only alphabets and spaces (remove everything else)\n",
    "        text = re.sub(r'[^a-z\\s]', '', text)\n",
    "\n",
    "        # Remove stop words (using set for fast lookup)\n",
    "        text = ' '.join([word for word in text.split() if word not in stop_words])\n",
    "\n",
    "        # Ensure there are no leading/trailing spaces\n",
    "        text = text.strip()\n",
    "\n",
    "        return text\n",
    "    return ''\n",
    "\n",
    "# Apply the standardization function to the 'title' and 'excerpt' columns separately, then combine\n",
    "df['standardized_title'] = df['title'].apply(standardize_text)\n",
    "df['standardized_excerpt'] = df['excerpt'].apply(standardize_text)\n",
    "df['standardized_text'] = df['standardized_title'] + ' ' + df['standardized_excerpt']\n"
   ]
  },
  {
   "cell_type": "code",
   "execution_count": 7,
   "id": "4f6d0af3-c672-4e75-a4f5-4dd60ce06762",
   "metadata": {},
   "outputs": [
    {
     "name": "stdout",
     "output_type": "stream",
     "text": [
      "   year                                              title  \\\n",
      "0  1920  At last the Federal Reserve Board has issued r...   \n",
      "1  1920                            WILL TEST DOOR SERVICE.   \n",
      "2  1920                    Sanction for Chinese Contracts.   \n",
      "3  1920                            LEADS FRAZIER BY 4,496.   \n",
      "4  1920  CHICAGO, April 30.--With 300 suspicious charac...   \n",
      "\n",
      "                                             excerpt  \\\n",
      "0                                                      \n",
      "1  Service Board to Further Examine I.R.T. Safety...   \n",
      "2                                                      \n",
      "3  Langer's Margin Falls in North Dakota--Gronna ...   \n",
      "4  Federal Agents and Police Round-- up Suspiciou...   \n",
      "\n",
      "                                  standardized_title  \\\n",
      "0  last federal reserve board issued rules organi...   \n",
      "1                                  test door service   \n",
      "2                         sanction chinese contracts   \n",
      "3                                      leads frazier   \n",
      "4  chicago april suspicious characters including ...   \n",
      "\n",
      "                                standardized_excerpt  \\\n",
      "0                                                      \n",
      "1         service board examine irt safety invention   \n",
      "2                                                      \n",
      "3  langers margin falls north dakotagronna also a...   \n",
      "4  federal agents police round suspicious iwws co...   \n",
      "\n",
      "                                   standardized_text  \n",
      "0  last federal reserve board issued rules organi...  \n",
      "1  test door service service board examine irt sa...  \n",
      "2                        sanction chinese contracts   \n",
      "3  leads frazier langers margin falls north dakot...  \n",
      "4  chicago april suspicious characters including ...  \n"
     ]
    }
   ],
   "source": [
    "# Now the DataFrame is ready with the standardized text\n",
    "print(df.head())"
   ]
  },
  {
   "cell_type": "code",
   "execution_count": 8,
   "id": "5dcfaf05-8416-46a4-9ca4-50ed085e3f38",
   "metadata": {},
   "outputs": [
    {
     "name": "stdout",
     "output_type": "stream",
     "text": [
      "   year                                  standardized_text\n",
      "0  1920  last federal reserve board issued rules organi...\n",
      "1  1920  test door service service board examine irt sa...\n",
      "2  1920                        sanction chinese contracts \n",
      "3  1920  leads frazier langers margin falls north dakot...\n",
      "4  1920  chicago april suspicious characters including ...\n"
     ]
    }
   ],
   "source": [
    "# Drop 'title' and 'excerpt' columns\n",
    "df = df.drop(['title', 'excerpt', 'standardized_title', 'standardized_excerpt'], axis=1)\n",
    "\n",
    "\n",
    "# Print the updated DataFrame\n",
    "print(df.head())"
   ]
  },
  {
   "cell_type": "code",
   "execution_count": 9,
   "id": "02af9d01-1f42-4078-87c3-d126c6fc9941",
   "metadata": {},
   "outputs": [
    {
     "name": "stdout",
     "output_type": "stream",
     "text": [
      "          year                                  standardized_text\n",
      "871974    1927  schooner morrissey receives food supplies sail...\n",
      "3563372   1938  tenanted repairs new housing sped indianapolis...\n",
      "11774055  1982  edwin h mosler jr former president chief execu...\n",
      "11142793  1975  reprs procommunist trade unions neighborhood c...\n",
      "10942590  1974  bill virdons first season manager pirates team...\n",
      "...        ...                                                ...\n",
      "3558555   1938  wash suburban sanitary dist md financing activ...\n",
      "9829470   1966  british state mind insists upon rejection feel...\n",
      "11486971  1978  article popularity rare tiffany glass notes me...\n",
      "6323141   1950                                   equitable lends \n",
      "4934695   1944  takeout double used nearly thirty years strong...\n",
      "\n",
      "[1737091 rows x 2 columns]\n"
     ]
    }
   ],
   "source": [
    "from sklearn.feature_extraction.text import TfidfVectorizer\n",
    "\n",
    "# Sampling 50% or 10% of the data to speed up the process\n",
    "sample_df = df.sample(frac=0.1, random_state=42)  # 10% sample\n",
    "print(sample_df)\n",
    "\n",
    "# Create an instance of TfidfVectorizer\n",
    "vectorizer = TfidfVectorizer()\n",
    "\n",
    "# Use the sampled data for TF-IDF vectorization\n",
    "tfidf_matrix = vectorizer.fit_transform(sample_df['standardized_text'])"
   ]
  },
  {
   "cell_type": "code",
   "execution_count": 11,
   "id": "173dcd3d-1378-41a7-b9c1-d5364e7504ad",
   "metadata": {},
   "outputs": [
    {
     "name": "stdout",
     "output_type": "stream",
     "text": [
      "DataFrame saved successfully to processed_dataset2.parquet\n"
     ]
    }
   ],
   "source": [
    "# Specify the output file path\n",
    "output_path = 'processed_dataset2.parquet'\n",
    "\n",
    "# Save the DataFrame to a Parquet file\n",
    "df.to_parquet(output_path)\n",
    "\n",
    "print(f\"DataFrame saved successfully to {output_path}\")"
   ]
  },
  {
   "cell_type": "code",
   "execution_count": null,
   "id": "9c758f0d-6500-44cc-ade3-519e9273e6e4",
   "metadata": {},
   "outputs": [],
   "source": []
  }
 ],
 "metadata": {
  "kernelspec": {
   "display_name": "Python 3 (ipykernel)",
   "language": "python",
   "name": "python3"
  },
  "language_info": {
   "codemirror_mode": {
    "name": "ipython",
    "version": 3
   },
   "file_extension": ".py",
   "mimetype": "text/x-python",
   "name": "python",
   "nbconvert_exporter": "python",
   "pygments_lexer": "ipython3",
   "version": "3.12.7"
  }
 },
 "nbformat": 4,
 "nbformat_minor": 5
}
